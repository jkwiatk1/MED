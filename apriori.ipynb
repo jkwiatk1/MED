{
 "cells": [
  {
   "cell_type": "code",
   "execution_count": 40,
   "metadata": {
    "collapsed": true,
    "ExecuteTime": {
     "start_time": "2023-06-13T15:10:47.341316Z",
     "end_time": "2023-06-13T15:10:47.355829Z"
    }
   },
   "outputs": [],
   "source": [
    "import pandas as pd\n",
    "import itertools"
   ]
  },
  {
   "cell_type": "markdown",
   "source": [
    "# File path to load"
   ],
   "metadata": {
    "collapsed": false
   }
  },
  {
   "cell_type": "code",
   "execution_count": 41,
   "outputs": [],
   "source": [
    "file_path = 'transactions_with_parents.csv'"
   ],
   "metadata": {
    "collapsed": false,
    "ExecuteTime": {
     "start_time": "2023-06-13T15:10:48.063024Z",
     "end_time": "2023-06-13T15:10:48.081035Z"
    }
   }
  },
  {
   "cell_type": "markdown",
   "source": [
    " # Parameters"
   ],
   "metadata": {
    "collapsed": false
   }
  },
  {
   "cell_type": "code",
   "execution_count": 42,
   "outputs": [],
   "source": [
    "IS_PRINT_ = False\n",
    "MIN_SUP = 140\n",
    "MIN_CONF = 0.3"
   ],
   "metadata": {
    "collapsed": false,
    "ExecuteTime": {
     "start_time": "2023-06-13T15:10:48.822083Z",
     "end_time": "2023-06-13T15:10:48.839574Z"
    }
   }
  },
  {
   "cell_type": "markdown",
   "source": [
    "# Apriori algorithm\n"
   ],
   "metadata": {
    "collapsed": false
   }
  },
  {
   "cell_type": "code",
   "execution_count": 50,
   "outputs": [],
   "source": [
    "class AprioriAlgorithm:\n",
    "    def __init__(self, min_support, min_confidence):\n",
    "        self.min_support = min_support\n",
    "        self.min_confidence = min_confidence\n",
    "        self.df_transaction_dataset = None\n",
    "        self.frequent_itemsets = {}\n",
    "        self.transactions_taxonomy_elements_frequency = None\n",
    "\n",
    "    def load_data(self, file_path,size=2000):\n",
    "        self.df_transaction_dataset = pd.read_csv(file_path)\n",
    "        self.df_transaction_dataset = self.df_transaction_dataset.head(size)\n",
    "\n",
    "    ########################################\n",
    "    # Frequency Counting\n",
    "    ########################################\n",
    "    def frequency_counting(self):\n",
    "        item_counts = self.df_transaction_dataset[[col for col in self.df_transaction_dataset.columns if col.isdigit() and len(col) == 4]].sum()\n",
    "        unique_combinations = set()\n",
    "        combination_counts = {}\n",
    "\n",
    "        for index, row in self.df_transaction_dataset.iterrows():\n",
    "            for col in self.df_transaction_dataset.columns:\n",
    "                if col.isdigit() and len(col) == 3:\n",
    "                    value = row[col]\n",
    "                    if value != 0:\n",
    "                        combination_key = (col, value)\n",
    "                        if combination_key in unique_combinations:\n",
    "                            combination_counts[combination_key] += 1\n",
    "                        else:\n",
    "                            unique_combinations.add(combination_key)\n",
    "                            combination_counts[combination_key] = 1\n",
    "\n",
    "        combination_counts_series = pd.Series(combination_counts)\n",
    "        transactions_taxonomy_elements_frequency = pd.concat([item_counts, combination_counts_series])\n",
    "\n",
    "        return transactions_taxonomy_elements_frequency\n",
    "\n",
    "\n",
    "    ########################################\n",
    "    # Generate Frequent k-itemsets\n",
    "    ########################################\n",
    "    def generate_candidates(self, prev_itemsets, k):\n",
    "        candidates = set()\n",
    "        for itemset1 in prev_itemsets:\n",
    "            for itemset2 in prev_itemsets:\n",
    "                if len(itemset1.union(itemset2)) == k:\n",
    "                    candidates.add(itemset1.union(itemset2))\n",
    "        return candidates\n",
    "\n",
    "    def prune_itemsets(self, itemsets, rejected_itemsets):\n",
    "        pruned_itemsets = {}\n",
    "        if rejected_itemsets:\n",
    "            itemsets = set(itemset for itemset in itemsets if itemset not in rejected_itemsets)\n",
    "        for itemset in itemsets:\n",
    "            support = sum(\n",
    "                all(\n",
    "                    (item[0] in row and row[item[0]] == item[1])\n",
    "                    if isinstance(item, tuple)\n",
    "                    else (item in row and row[item] != 0)\n",
    "                    for item in itemset\n",
    "                )\n",
    "                for _, row in self.df_transaction_dataset.iterrows()\n",
    "            )\n",
    "            if support >= self.min_support:\n",
    "                pruned_itemsets[itemset] = support\n",
    "            else:\n",
    "                rejected_itemsets.add(itemset)\n",
    "        return pruned_itemsets\n",
    "\n",
    "    def generate_frequent_itemsets(self):\n",
    "        frequent_1_itemsets = {}\n",
    "        rejected_itemsets = set()\n",
    "\n",
    "        for item, count in self.transactions_taxonomy_elements_frequency.items():\n",
    "            if count >= self.min_support:\n",
    "                frequent_1_itemsets[frozenset([item])] = count\n",
    "\n",
    "        self.frequent_itemsets[1] = frequent_1_itemsets\n",
    "\n",
    "        k = 2\n",
    "        while self.frequent_itemsets[k - 1]:\n",
    "            candidate_itemsets = self.generate_candidates(self.frequent_itemsets[k - 1].keys(), k)\n",
    "            pruned_itemsets = self.prune_itemsets(candidate_itemsets, rejected_itemsets)\n",
    "            self.frequent_itemsets[k] = pruned_itemsets\n",
    "            k += 1\n",
    "\n",
    "    ########################################\n",
    "    # Generate Association Rules\n",
    "    ########################################\n",
    "    def generate_association_rules(self):\n",
    "        association_rules = []\n",
    "\n",
    "        if len(self.frequent_itemsets) < 2:\n",
    "            return association_rules\n",
    "\n",
    "        frequent_itemsets_to_create_rules = self.frequent_itemsets.get(len(self.frequent_itemsets) - 2)\n",
    "\n",
    "        if frequent_itemsets_to_create_rules is None:\n",
    "            return association_rules\n",
    "\n",
    "        for itemset in frequent_itemsets_to_create_rules.items():\n",
    "            support_without_tuple = itemset[1]\n",
    "            itemset = itemset[0]\n",
    "            new_itemset = True\n",
    "            last_support_for_tuple = None\n",
    "            subsets = self.get_subsets(itemset)\n",
    "\n",
    "            for subset in subsets:\n",
    "                antecedent = subset\n",
    "                consequent = itemset - subset\n",
    "                if len(antecedent) >= 2 or isinstance(antecedent, tuple) or any(isinstance(x, tuple) for x in consequent):\n",
    "                    antecedent_support = sum(\n",
    "                        all(\n",
    "                            (row[item[0]] > item[1])\n",
    "                            if isinstance(item, tuple)\n",
    "                            else (row[item] == 1)\n",
    "                            for item in antecedent\n",
    "                        )\n",
    "                        for _, row in self.df_transaction_dataset.iterrows()\n",
    "                    )\n",
    "\n",
    "                    if new_itemset:\n",
    "                        new_itemset = False\n",
    "                        base_support = sum(\n",
    "                            all(\n",
    "                                (row[item[0]] > item[1])\n",
    "                                if isinstance(item, tuple)\n",
    "                                else (row[item] == 1)\n",
    "                                for item in itemset\n",
    "                            )\n",
    "                            for _, row in self.df_transaction_dataset.iterrows()\n",
    "                        )\n",
    "\n",
    "                        last_support_for_tuple = base_support\n",
    "                    support = last_support_for_tuple\n",
    "                    if antecedent_support > 0:\n",
    "                        confidence = support / antecedent_support\n",
    "                        if confidence >= self.min_confidence:\n",
    "                            association_rules.append((antecedent, consequent, support, confidence))\n",
    "                else:\n",
    "                    antecedent_support = self.frequent_itemsets[len(antecedent)][antecedent]\n",
    "                    confidence = support_without_tuple / antecedent_support\n",
    "                    if confidence >= self.min_confidence:\n",
    "                        association_rules.append((antecedent, consequent, support_without_tuple, confidence))\n",
    "\n",
    "        return association_rules\n",
    "\n",
    "    def get_subsets(self, itemset):\n",
    "        subsets = []\n",
    "        itemset = list(itemset)\n",
    "        num_items = len(itemset)\n",
    "\n",
    "        for i in range(1, num_items):\n",
    "            subsets.extend(itertools.combinations(itemset, i))\n",
    "\n",
    "        return [frozenset(subset) for subset in subsets]\n",
    "\n",
    "    def run_algorithm(self, file_path,dataset_size=2000):\n",
    "        self.load_data(file_path,dataset_size)\n",
    "        self.transactions_taxonomy_elements_frequency = self.frequency_counting()\n",
    "        self.generate_frequent_itemsets()\n",
    "        association_rules = self.generate_association_rules()\n",
    "        return self.transactions_taxonomy_elements_frequency, association_rules"
   ],
   "metadata": {
    "collapsed": false,
    "ExecuteTime": {
     "start_time": "2023-06-13T15:20:27.947842Z",
     "end_time": "2023-06-13T15:20:27.957851Z"
    }
   }
  },
  {
   "cell_type": "code",
   "execution_count": 48,
   "outputs": [],
   "source": [
    "class AprioriAlgorithmRunner:\n",
    "    def __init__(self, min_support, min_confidence):\n",
    "        self.apriori_algorithm = AprioriAlgorithm(min_support, min_confidence)\n",
    "\n",
    "    def run_algorithm(self, file_path, dataset_size=2000):\n",
    "        return self.apriori_algorithm.run_algorithm(file_path, dataset_size)"
   ],
   "metadata": {
    "collapsed": false,
    "ExecuteTime": {
     "start_time": "2023-06-13T15:15:38.785918Z",
     "end_time": "2023-06-13T15:15:38.808913Z"
    }
   }
  },
  {
   "cell_type": "markdown",
   "source": [
    "# Run algorithm"
   ],
   "metadata": {
    "collapsed": false
   }
  },
  {
   "cell_type": "code",
   "execution_count": 34,
   "outputs": [],
   "source": [
    "runner = AprioriAlgorithmRunner(min_support=MIN_SUP, min_confidence=MIN_CONF)\n",
    "transactions_taxonomy_elements_frequency, association_rules = runner.run_algorithm(file_path=file_path,dataset_size = 5000)"
   ],
   "metadata": {
    "collapsed": false,
    "ExecuteTime": {
     "start_time": "2023-06-13T14:55:56.439273Z",
     "end_time": "2023-06-13T15:02:06.510971Z"
    }
   }
  },
  {
   "cell_type": "code",
   "execution_count": 35,
   "outputs": [
    {
     "name": "stdout",
     "output_type": "stream",
     "text": [
      "Frequency Counting Results:\n",
      "1001          19\n",
      "1002         175\n",
      "1003           2\n",
      "1004           8\n",
      "1005          47\n",
      "            ... \n",
      "(100, 14)      1\n",
      "(132, 3)       1\n",
      "(213, 1)       4\n",
      "(130, 6)       1\n",
      "(303, 3)       1\n",
      "Length: 1394, dtype: int64\n"
     ]
    }
   ],
   "source": [
    "print(\"Frequency Counting Results:\")\n",
    "print(transactions_taxonomy_elements_frequency)"
   ],
   "metadata": {
    "collapsed": false,
    "ExecuteTime": {
     "start_time": "2023-06-13T15:02:06.510971Z",
     "end_time": "2023-06-13T15:02:06.525978Z"
    }
   }
  },
  {
   "cell_type": "code",
   "execution_count": 36,
   "outputs": [
    {
     "name": "stdout",
     "output_type": "stream",
     "text": [
      "\n",
      "Association Rules:\n",
      "Antecedent: ('132', 1), Consequent: ('130', 1), ('100', 2), ('150', 1), Support: 28, Confidence: 0.5384615384615384\n",
      "Antecedent: ('132', 1), ('150', 1), Consequent: ('130', 1), ('100', 2), Support: 28, Confidence: 1.0\n",
      "Antecedent: ('130', 1), ('132', 1), Consequent: ('100', 2), ('150', 1), Support: 28, Confidence: 0.5384615384615384\n",
      "Antecedent: ('100', 2), ('132', 1), Consequent: ('130', 1), ('150', 1), Support: 28, Confidence: 0.6363636363636364\n",
      "Antecedent: ('130', 1), ('132', 1), ('150', 1), Consequent: ('100', 2), Support: 28, Confidence: 1.0\n",
      "Antecedent: ('100', 2), ('132', 1), ('150', 1), Consequent: ('130', 1), Support: 28, Confidence: 1.0\n",
      "Antecedent: ('130', 1), ('100', 2), ('132', 1), Consequent: ('150', 1), Support: 28, Confidence: 0.6363636363636364\n",
      "Antecedent: ('154', 1), Consequent: 1113, ('100', 1), ('150', 1), Support: 17, Confidence: 0.7727272727272727\n",
      "Antecedent: 1113, ('154', 1), Consequent: ('100', 1), ('150', 1), Support: 17, Confidence: 1.0\n",
      "Antecedent: ('100', 1), ('154', 1), Consequent: 1113, ('150', 1), Support: 17, Confidence: 0.7727272727272727\n",
      "Antecedent: ('154', 1), ('150', 1), Consequent: 1113, ('100', 1), Support: 17, Confidence: 0.7727272727272727\n",
      "Antecedent: 1113, ('100', 1), ('154', 1), Consequent: ('150', 1), Support: 17, Confidence: 1.0\n",
      "Antecedent: 1113, ('154', 1), ('150', 1), Consequent: ('100', 1), Support: 17, Confidence: 1.0\n",
      "Antecedent: ('100', 1), ('154', 1), ('150', 1), Consequent: 1113, Support: 17, Confidence: 0.7727272727272727\n",
      "Antecedent: ('230', 1), Consequent: ('100', 1), ('200', 1), ('150', 1), Support: 200, Confidence: 0.34305317324185247\n",
      "Antecedent: ('230', 1), ('100', 1), Consequent: ('200', 1), ('150', 1), Support: 200, Confidence: 0.8163265306122449\n",
      "Antecedent: ('230', 1), ('200', 1), Consequent: ('100', 1), ('150', 1), Support: 200, Confidence: 0.34305317324185247\n",
      "Antecedent: ('230', 1), ('150', 1), Consequent: ('100', 1), ('200', 1), Support: 200, Confidence: 1.0\n",
      "Antecedent: ('100', 1), ('200', 1), Consequent: ('230', 1), ('150', 1), Support: 200, Confidence: 0.3795066413662239\n",
      "Antecedent: ('200', 1), ('150', 1), Consequent: ('230', 1), ('100', 1), Support: 200, Confidence: 0.48661800486618007\n",
      "Antecedent: ('230', 1), ('100', 1), ('200', 1), Consequent: ('150', 1), Support: 200, Confidence: 0.8163265306122449\n",
      "Antecedent: ('230', 1), ('100', 1), ('150', 1), Consequent: ('200', 1), Support: 200, Confidence: 1.0\n",
      "Antecedent: ('230', 1), ('200', 1), ('150', 1), Consequent: ('100', 1), Support: 200, Confidence: 1.0\n",
      "Antecedent: ('100', 1), ('200', 1), ('150', 1), Consequent: ('230', 1), Support: 200, Confidence: 0.48661800486618007\n",
      "Antecedent: ('210', 1), Consequent: ('200', 2), ('230', 1), 2010, Support: 27, Confidence: 0.3\n",
      "Antecedent: ('210', 1), ('230', 1), Consequent: ('200', 2), 2010, Support: 27, Confidence: 0.9\n",
      "Antecedent: ('200', 2), ('210', 1), Consequent: ('230', 1), 2010, Support: 27, Confidence: 0.4426229508196721\n",
      "Antecedent: ('210', 1), 2010, Consequent: ('200', 2), ('230', 1), Support: 27, Confidence: 0.36486486486486486\n",
      "Antecedent: ('200', 2), ('210', 1), ('230', 1), Consequent: 2010, Support: 27, Confidence: 0.9\n",
      "Antecedent: ('210', 1), ('230', 1), 2010, Consequent: ('200', 2), Support: 27, Confidence: 1.0\n",
      "Antecedent: ('200', 2), ('210', 1), 2010, Consequent: ('230', 1), Support: 27, Confidence: 0.5094339622641509\n"
     ]
    }
   ],
   "source": [
    "print(\"\\nAssociation Rules:\")\n",
    "for antecedent, consequent, support, confidence in association_rules:\n",
    "    antecedent_str = ', '.join([str(item) for item in antecedent])\n",
    "    consequent_str = ', '.join([str(item) for item in consequent])\n",
    "    print(f\"Antecedent: {antecedent_str}, Consequent: {consequent_str}, Support: {support}, Confidence: {confidence}\")"
   ],
   "metadata": {
    "collapsed": false,
    "ExecuteTime": {
     "start_time": "2023-06-13T15:02:14.085990Z",
     "end_time": "2023-06-13T15:02:14.097000Z"
    }
   }
  },
  {
   "cell_type": "markdown",
   "source": [
    "# Eksperymenty"
   ],
   "metadata": {
    "collapsed": false
   }
  },
  {
   "cell_type": "code",
   "execution_count": 59,
   "outputs": [
    {
     "data": {
      "text/plain": "<Figure size 640x480 with 1 Axes>",
      "image/png": "[encoded data removed]"
     },
     "metadata": {},
     "output_type": "display_data"
    }
   ],
   "source": [
    "import time\n",
    "import matplotlib.pyplot as plt\n",
    "import pandas as pd\n",
    "\n",
    "dataset_sizes = [100, 200, 500, 1000, 2000, 3000,4000,5000,6000,7000,8000,9000,10000]\n",
    "MIN_SUP = 140\n",
    "MIN_CONF = 0.3\n",
    "execution_times = []\n",
    "rule_data = []\n",
    "\n",
    "for size in dataset_sizes:\n",
    "    runner = AprioriAlgorithmRunner(min_support=MIN_SUP, min_confidence=MIN_CONF)\n",
    "    start_time = time.time()\n",
    "    transactions_taxonomy_elements_frequency, association_rules = runner.run_algorithm(file_path=file_path, dataset_size=size)\n",
    "    end_time = time.time()\n",
    "    execution_time = end_time - start_time\n",
    "    execution_times.append(execution_time)\n",
    "\n",
    "    # Save rules and frequencies in a dictionary\n",
    "    rule_data.append({\n",
    "        'Dataset Size': size,\n",
    "        'Transactions Taxonomy Elements Frequency': transactions_taxonomy_elements_frequency,\n",
    "        'Association Rules': association_rules\n",
    "    })\n",
    "\n",
    "# Convert rule_data to a DataFrame\n",
    "rule_df_140_03 = pd.DataFrame(rule_data)\n",
    "\n",
    "# Plotting the execution times\n",
    "plt.plot(dataset_sizes, execution_times, marker='o')\n",
    "plt.xlabel('Ilosc transakcji')\n",
    "plt.ylabel('Czas wykonania algorytmu [s]')\n",
    "plt.title('Czas wykonania algorytmu apriori dla danej liczby transakcji')\n",
    "plt.show()"
   ],
   "metadata": {
    "collapsed": false,
    "ExecuteTime": {
     "start_time": "2023-06-13T15:30:56.034687Z",
     "end_time": "2023-06-13T18:03:07.992443Z"
    }
   }
  },
  {
   "cell_type": "code",
   "execution_count": 60,
   "outputs": [
    {
     "data": {
      "text/plain": "    Dataset Size           Transactions Taxonomy Elements Frequency  \\\n0            100  1001         5\n1002        11\n1003         2\n1...   \n1            200  1001         5\n1002        15\n1003         2\n1...   \n2            500  1001          5\n1002         29\n1003          ...   \n3           1000  1001          6\n1002         42\n1003          ...   \n4           2000  1001        12\n1002        79\n1003         2\n1...   \n5           3000  1001          19\n1002         126\n1003        ...   \n6           4000  1001          19\n1002         156\n1003        ...   \n7           5000  1001          19\n1002         175\n1003        ...   \n8           6000  1001         19\n1002        192\n1003          ...   \n9           7000  1001          19\n1002         236\n1003        ...   \n10          8000  1001         19\n1002        260\n1003          ...   \n11          9000  1001          19\n1002         299\n1003        ...   \n12         10000  1001          19\n1002         351\n1003        ...   \n\n                                    Association Rules  \n0                                                  []  \n1                                                  []  \n2                                                  []  \n3   [((('210', 1)), (2010), 185, 0.804347826086956...  \n4   [((('150', 1)), (('200', 1)), 156, 0.349775784...  \n5   [((('210', 1)), (2010, ('200', 1)), 42, 0.75),...  \n6   [((('210', 1), ('230', 1)), (('200', 2), 2010)...  \n7   [((('132', 1)), (('130', 1), ('100', 2), ('150...  \n8   [((('154', 1)), (1113, ('100', 1), ('150', 1))...  \n9   [((('154', 1)), (1113, ('100', 1), ('150', 1))...  \n10  [((('230', 1)), (('100', 1), ('200', 1), ('150...  \n11  [((('210', 1), ('232', 1)), (('200', 2), ('230...  \n12  [((('210', 1), ('232', 1)), (('200', 2), ('230...  ",
      "text/html": "<div>\n<style scoped>\n    .dataframe tbody tr th:only-of-type {\n        vertical-align: middle;\n    }\n\n    .dataframe tbody tr th {\n        vertical-align: top;\n    }\n\n    .dataframe thead th {\n        text-align: right;\n    }\n</style>\n<table border=\"1\" class=\"dataframe\">\n  <thead>\n    <tr style=\"text-align: right;\">\n      <th></th>\n      <th>Dataset Size</th>\n      <th>Transactions Taxonomy Elements Frequency</th>\n      <th>Association Rules</th>\n    </tr>\n  </thead>\n  <tbody>\n    <tr>\n      <th>0</th>\n      <td>100</td>\n      <td>1001         5\n1002        11\n1003         2\n1...</td>\n      <td>[]</td>\n    </tr>\n    <tr>\n      <th>1</th>\n      <td>200</td>\n      <td>1001         5\n1002        15\n1003         2\n1...</td>\n      <td>[]</td>\n    </tr>\n    <tr>\n      <th>2</th>\n      <td>500</td>\n      <td>1001          5\n1002         29\n1003          ...</td>\n      <td>[]</td>\n    </tr>\n    <tr>\n      <th>3</th>\n      <td>1000</td>\n      <td>1001          6\n1002         42\n1003          ...</td>\n      <td>[((('210', 1)), (2010), 185, 0.804347826086956...</td>\n    </tr>\n    <tr>\n      <th>4</th>\n      <td>2000</td>\n      <td>1001        12\n1002        79\n1003         2\n1...</td>\n      <td>[((('150', 1)), (('200', 1)), 156, 0.349775784...</td>\n    </tr>\n    <tr>\n      <th>5</th>\n      <td>3000</td>\n      <td>1001          19\n1002         126\n1003        ...</td>\n      <td>[((('210', 1)), (2010, ('200', 1)), 42, 0.75),...</td>\n    </tr>\n    <tr>\n      <th>6</th>\n      <td>4000</td>\n      <td>1001          19\n1002         156\n1003        ...</td>\n      <td>[((('210', 1), ('230', 1)), (('200', 2), 2010)...</td>\n    </tr>\n    <tr>\n      <th>7</th>\n      <td>5000</td>\n      <td>1001          19\n1002         175\n1003        ...</td>\n      <td>[((('132', 1)), (('130', 1), ('100', 2), ('150...</td>\n    </tr>\n    <tr>\n      <th>8</th>\n      <td>6000</td>\n      <td>1001         19\n1002        192\n1003          ...</td>\n      <td>[((('154', 1)), (1113, ('100', 1), ('150', 1))...</td>\n    </tr>\n    <tr>\n      <th>9</th>\n      <td>7000</td>\n      <td>1001          19\n1002         236\n1003        ...</td>\n      <td>[((('154', 1)), (1113, ('100', 1), ('150', 1))...</td>\n    </tr>\n    <tr>\n      <th>10</th>\n      <td>8000</td>\n      <td>1001         19\n1002        260\n1003          ...</td>\n      <td>[((('230', 1)), (('100', 1), ('200', 1), ('150...</td>\n    </tr>\n    <tr>\n      <th>11</th>\n      <td>9000</td>\n      <td>1001          19\n1002         299\n1003        ...</td>\n      <td>[((('210', 1), ('232', 1)), (('200', 2), ('230...</td>\n    </tr>\n    <tr>\n      <th>12</th>\n      <td>10000</td>\n      <td>1001          19\n1002         351\n1003        ...</td>\n      <td>[((('210', 1), ('232', 1)), (('200', 2), ('230...</td>\n    </tr>\n  </tbody>\n</table>\n</div>"
     },
     "execution_count": 60,
     "metadata": {},
     "output_type": "execute_result"
    }
   ],
   "source": [
    "rule_df_140_03"
   ],
   "metadata": {
    "collapsed": false,
    "ExecuteTime": {
     "start_time": "2023-06-13T18:17:06.606944Z",
     "end_time": "2023-06-13T18:17:06.745163Z"
    }
   }
  },
  {
   "cell_type": "code",
   "execution_count": 61,
   "outputs": [
    {
     "data": {
      "text/plain": "1001          19\n1002         126\n1003           2\n1004           2\n1005          26\n            ... \n(200, 20)      1\n(200, 7)       1\n(303, 2)       3\n(307, 1)       3\n(302, 3)       1\nLength: 1382, dtype: int64"
     },
     "execution_count": 61,
     "metadata": {},
     "output_type": "execute_result"
    }
   ],
   "source": [
    "rule_df_140_03['Transactions Taxonomy Elements Frequency'][5]"
   ],
   "metadata": {
    "collapsed": false,
    "ExecuteTime": {
     "start_time": "2023-06-13T18:17:16.472892Z",
     "end_time": "2023-06-13T18:17:16.489410Z"
    }
   }
  },
  {
   "cell_type": "code",
   "execution_count": 62,
   "outputs": [
    {
     "data": {
      "text/plain": "1001          19\n1002         236\n1003           2\n1004          10\n1005          65\n            ... \n(150, 12)      1\n(100, 17)      1\n(231, 3)       1\n(240, 2)       1\n(120, 3)       1\nLength: 1407, dtype: int64"
     },
     "execution_count": 62,
     "metadata": {},
     "output_type": "execute_result"
    }
   ],
   "source": [
    "rule_df_140_03['Transactions Taxonomy Elements Frequency'][9]"
   ],
   "metadata": {
    "collapsed": false,
    "ExecuteTime": {
     "start_time": "2023-06-13T18:17:33.628543Z",
     "end_time": "2023-06-13T18:17:33.642554Z"
    }
   }
  },
  {
   "cell_type": "code",
   "execution_count": null,
   "outputs": [],
   "source": [
    "dataset_sizes = [100, 200, 500, 1000, 2000, 3000,4000,6000,8000,10000]\n",
    "MIN_SUP_2 = 240\n",
    "MIN_CONF_2 = 0.5\n",
    "execution_times_2 = []\n",
    "rule_data_2 = []\n",
    "\n",
    "for size in dataset_sizes:\n",
    "    runner = AprioriAlgorithmRunner(min_support=MIN_SUP_2, min_confidence=MIN_CONF_2)\n",
    "    start_time = time.time()\n",
    "    transactions_taxonomy_elements_frequency, association_rules = runner.run_algorithm(file_path=file_path, dataset_size=size)\n",
    "    end_time = time.time()\n",
    "    execution_time = end_time - start_time\n",
    "    execution_times_2.append(execution_time)\n",
    "\n",
    "    # Save rules and frequencies in a dictionary\n",
    "    rule_data_2.append({\n",
    "        'Dataset Size': size,\n",
    "        'Transactions Taxonomy Elements Frequency': transactions_taxonomy_elements_frequency,\n",
    "        'Association Rules': association_rules\n",
    "    })\n",
    "    print('Skonczono szukanie reguł dla zbioru:', str(size))\n",
    "\n",
    "# Convert rule_data to a DataFrame\n",
    "rule_df_240_05 = pd.DataFrame(rule_data_2)\n",
    "\n",
    "# Plotting the execution times\n",
    "plt.plot(dataset_sizes, execution_times_2, marker='o')\n",
    "plt.xlabel('Ilosc transakcji')\n",
    "plt.ylabel('Czas wykonania algorytmu [s]')\n",
    "plt.title('Czas wykonania algorytmu apriori dla danej liczby transakcji, min_sup = 240, min_conf = 0.5')\n",
    "plt.show()"
   ],
   "metadata": {
    "collapsed": false
   }
  }
 ],
 "metadata": {
  "kernelspec": {
   "display_name": "Python 3",
   "language": "python",
   "name": "python3"
  },
  "language_info": {
   "codemirror_mode": {
    "name": "ipython",
    "version": 2
   },
   "file_extension": ".py",
   "mimetype": "text/x-python",
   "name": "python",
   "nbconvert_exporter": "python",
   "pygments_lexer": "ipython2",
   "version": "2.7.6"
  }
 },
 "nbformat": 4,
 "nbformat_minor": 0
}

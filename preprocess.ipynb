{
 "cells": [
  {
   "cell_type": "markdown",
   "source": [
    "#https://www.philippe-fournier-viger.com/spmf/index.php?link=datasets.php"
   ],
   "metadata": {
    "collapsed": false
   }
  },
  {
   "cell_type": "code",
   "execution_count": 10,
   "outputs": [],
   "source": [
    "import requests\n",
    "import numpy as np\n",
    "import pandas as pd\n",
    "import io"
   ],
   "metadata": {
    "collapsed": false,
    "ExecuteTime": {
     "start_time": "2023-06-09T10:21:24.725520Z",
     "end_time": "2023-06-09T10:21:26.466440Z"
    }
   }
  },
  {
   "cell_type": "code",
   "execution_count": 8,
   "outputs": [],
   "source": [
    "url_transactions = \"https://www.philippe-fournier-viger.com/spmf/datasets/fruithut_original.txt\"\n",
    "url_taxonomy = \"https://www.philippe-fournier-viger.com/spmf/datasets/Fruithut_taxonomy_data.txt\""
   ],
   "metadata": {
    "collapsed": false,
    "ExecuteTime": {
     "start_time": "2023-06-08T01:49:14.523815Z",
     "end_time": "2023-06-08T01:49:14.582866Z"
    }
   }
  },
  {
   "cell_type": "code",
   "execution_count": 9,
   "outputs": [],
   "source": [
    "response_transations = requests.get(url_transactions)\n",
    "transactions_and_elements_txt = response_transations.text\n",
    "\n",
    "response_taxonomy = requests.get(url_taxonomy)\n",
    "taxonomy_txt = response_taxonomy.text"
   ],
   "metadata": {
    "collapsed": false,
    "ExecuteTime": {
     "start_time": "2023-06-08T01:49:14.538828Z",
     "end_time": "2023-06-08T01:49:17.147754Z"
    }
   }
  },
  {
   "cell_type": "code",
   "execution_count": 10,
   "outputs": [],
   "source": [
    "df_taxonomy = np.genfromtxt(io.StringIO(taxonomy_txt), delimiter=',')\n",
    "df_taxonomy = pd.DataFrame(df_taxonomy)\n",
    "df_taxonomy = df_taxonomy.astype(int)"
   ],
   "metadata": {
    "collapsed": false,
    "ExecuteTime": {
     "start_time": "2023-06-08T01:49:17.148756Z",
     "end_time": "2023-06-08T01:49:17.163267Z"
    }
   }
  },
  {
   "cell_type": "code",
   "execution_count": 11,
   "outputs": [],
   "source": [
    "elements_data = []\n",
    "skip_first_line = True\n",
    "last_index = 0\n",
    "transactions_and_elements_list = transactions_and_elements_txt.split('\\n')\n",
    "\n",
    "for line in transactions_and_elements_list:\n",
    "    if skip_first_line:\n",
    "        skip_first_line = False\n",
    "        continue\n",
    "\n",
    "    if line.startswith(\"@ITEM=\"):\n",
    "        line = line.replace(\"@ITEM=\", \"\")\n",
    "        parts = line.split(\"=\")\n",
    "        number = int(parts[0])\n",
    "        description = parts[1].replace('\\r', '')\n",
    "        elements_data.append([number, description])\n",
    "        last_index += 1\n",
    "    elif not line.startswith(\"@ITEM=\"):\n",
    "        break"
   ],
   "metadata": {
    "collapsed": false,
    "ExecuteTime": {
     "start_time": "2023-06-08T01:49:17.163267Z",
     "end_time": "2023-06-08T01:49:17.210307Z"
    }
   }
  },
  {
   "cell_type": "code",
   "execution_count": 12,
   "outputs": [],
   "source": [
    "df_elements = np.array(elements_data)\n",
    "sorted_indices = np.argsort(df_elements[:, 0].astype(int))\n",
    "df_elements = df_elements[sorted_indices]\n",
    "transactions_list = transactions_and_elements_list[last_index+1:]\n",
    "\n",
    "for i in range(len(transactions_list)):\n",
    "    transactions_list[i] = transactions_list[i].replace('\\r', '')\n",
    "\n",
    "element_numbers = {row[0]: row[1] for row in df_elements}\n",
    "\n",
    "transactions_data = []\n",
    "for line in transactions_list:\n",
    "    transaction = line.split(' ')\n",
    "    transaction_data = np.array([1 if element in transaction else 0 for element in element_numbers])\n",
    "    transactions_data.append(transaction_data)"
   ],
   "metadata": {
    "collapsed": false,
    "ExecuteTime": {
     "start_time": "2023-06-08T01:49:17.211308Z",
     "end_time": "2023-06-08T01:49:40.347607Z"
    }
   }
  },
  {
   "cell_type": "code",
   "execution_count": 13,
   "outputs": [],
   "source": [
    "df_transactions = pd.DataFrame(transactions_data, columns=list(element_numbers.keys()))"
   ],
   "metadata": {
    "collapsed": false,
    "ExecuteTime": {
     "start_time": "2023-06-08T01:49:40.348108Z",
     "end_time": "2023-06-08T01:51:07.151166Z"
    }
   }
  },
  {
   "cell_type": "code",
   "execution_count": 14,
   "outputs": [
    {
     "name": "stdout",
     "output_type": "stream",
     "text": [
      "Taxonomy:\n",
      "         0    1\n",
      "0     1001  110\n",
      "1     1002  150\n",
      "2     1003  150\n",
      "3     1004  150\n",
      "4     1005  130\n",
      "...    ...  ...\n",
      "1290   237  230\n",
      "1291   210  200\n",
      "1292   220  200\n",
      "1293   230  200\n",
      "1294   240  200\n",
      "\n",
      "[1295 rows x 2 columns]\n"
     ]
    }
   ],
   "source": [
    "print(\"Taxonomy:\")\n",
    "print(df_taxonomy)"
   ],
   "metadata": {
    "collapsed": false,
    "ExecuteTime": {
     "start_time": "2023-06-08T01:51:07.137996Z",
     "end_time": "2023-06-08T01:51:07.160202Z"
    }
   }
  },
  {
   "cell_type": "code",
   "execution_count": 15,
   "outputs": [
    {
     "name": "stdout",
     "output_type": "stream",
     "text": [
      "\n",
      "\n",
      "Elements descriptions:\n",
      "[['1001' ' Australian Asparagus green']\n",
      " ['1002' 'Beans green']\n",
      " ['1003' 'Beans baby']\n",
      " ...\n",
      " ['9996' 'Almond Bread']\n",
      " ['9997' 'Chocolate Almond Bread']\n",
      " ['9998' 'Chilli Powder Unr 200g']]\n"
     ]
    }
   ],
   "source": [
    "print(\"\\n\\nElements descriptions:\")\n",
    "print(df_elements)"
   ],
   "metadata": {
    "collapsed": false
   }
  },
  {
   "cell_type": "code",
   "execution_count": 16,
   "outputs": [
    {
     "name": "stdout",
     "output_type": "stream",
     "text": [
      "\n",
      "\n",
      "Transactions:\n",
      "        1001  1002  1003  1004  1005  1007  1008  1009  1010  1011  ...  9989  \\\n",
      "0          0     0     0     0     0     0     0     0     0     0  ...     0   \n",
      "1          0     0     0     0     0     0     0     0     0     0  ...     0   \n",
      "2          1     0     0     0     0     0     0     0     0     0  ...     0   \n",
      "3          1     0     0     0     0     0     0     0     0     0  ...     0   \n",
      "4          1     0     1     0     0     0     0     0     0     0  ...     0   \n",
      "...      ...   ...   ...   ...   ...   ...   ...   ...   ...   ...  ...   ...   \n",
      "181966     0     0     0     0     0     0     0     0     0     0  ...     0   \n",
      "181967     0     0     0     0     0     0     0     0     1     0  ...     0   \n",
      "181968     0     1     0     0     0     0     1     0     0     0  ...     0   \n",
      "181969     0     0     0     0     0     0     0     0     0     0  ...     0   \n",
      "181970     0     0     0     0     0     0     0     0     0     0  ...     0   \n",
      "\n",
      "        9990  9991  9992  9993  9994  9995  9996  9997  9998  \n",
      "0          0     0     0     0     0     0     0     0     0  \n",
      "1          0     0     0     0     0     0     0     0     0  \n",
      "2          0     0     0     0     0     0     0     0     0  \n",
      "3          0     0     0     0     0     0     0     0     0  \n",
      "4          0     0     0     0     0     0     0     0     0  \n",
      "...      ...   ...   ...   ...   ...   ...   ...   ...   ...  \n",
      "181966     0     0     0     0     0     0     0     0     0  \n",
      "181967     0     0     0     0     0     0     0     0     0  \n",
      "181968     0     0     0     0     0     0     0     0     0  \n",
      "181969     0     0     0     0     0     0     0     0     0  \n",
      "181970     0     0     0     0     0     0     0     0     0  \n",
      "\n",
      "[181971 rows x 1265 columns]\n"
     ]
    }
   ],
   "source": [
    "print(\"\\n\\nTransactions:\")\n",
    "print(df_transactions)"
   ],
   "metadata": {
    "collapsed": false
   }
  },
  {
   "cell_type": "code",
   "execution_count": 17,
   "outputs": [],
   "source": [
    "df_taxonomy.to_csv('taxonomy.csv', index=False)\n",
    "df_transactions.to_csv('transactions.csv', index=False)"
   ],
   "metadata": {
    "collapsed": false
   }
  }
 ],
 "metadata": {
  "kernelspec": {
   "display_name": "Python 3",
   "language": "python",
   "name": "python3"
  },
  "language_info": {
   "codemirror_mode": {
    "name": "ipython",
    "version": 2
   },
   "file_extension": ".py",
   "mimetype": "text/x-python",
   "name": "python",
   "nbconvert_exporter": "python",
   "pygments_lexer": "ipython2",
   "version": "2.7.6"
  }
 },
 "nbformat": 4,
 "nbformat_minor": 0
}
